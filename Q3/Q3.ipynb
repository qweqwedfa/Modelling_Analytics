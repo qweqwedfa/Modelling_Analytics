{
 "cells": [
  {
   "cell_type": "code",
   "execution_count": 1,
   "metadata": {},
   "outputs": [],
   "source": [
    "import pulp"
   ]
  },
  {
   "cell_type": "code",
   "execution_count": 10,
   "metadata": {},
   "outputs": [
    {
     "name": "stdout",
     "output_type": "stream",
     "text": [
      "GLPSOL--GLPK LP/MIP Solver 5.0\n",
      "Parameter(s) specified in the command line:\n",
      " --cpxlp /var/folders/8t/3xrvdszj1g75llc2jb40dnvw0000gn/T/5469711ed48c4444847cddf45e9c7968-pulp.lp\n",
      " -o /var/folders/8t/3xrvdszj1g75llc2jb40dnvw0000gn/T/5469711ed48c4444847cddf45e9c7968-pulp.sol\n",
      " --ranges sensitivity_for_president.txt\n",
      "Reading problem data from '/var/folders/8t/3xrvdszj1g75llc2jb40dnvw0000gn/T/5469711ed48c4444847cddf45e9c7968-pulp.lp'...\n",
      "8 rows, 12 columns, 23 non-zeros\n",
      "15 lines were read\n",
      "GLPK Simplex Optimizer 5.0\n",
      "8 rows, 12 columns, 23 non-zeros\n",
      "Preprocessing...\n",
      "4 rows, 5 columns, 12 non-zeros\n",
      "Scaling...\n",
      " A: min|aij| =  5.000e-01  max|aij| =  2.500e+01  ratio =  5.000e+01\n",
      "GM: min|aij| =  6.687e-01  max|aij| =  1.495e+00  ratio =  2.236e+00\n",
      "EQ: min|aij| =  4.472e-01  max|aij| =  1.000e+00  ratio =  2.236e+00\n",
      "Constructing initial basis...\n",
      "Size of triangular part is 4\n",
      "      0: obj =  -3.500000000e+02 inf =   3.172e+02 (2)\n",
      "      3: obj =   3.166666667e+02 inf =   0.000e+00 (0)\n",
      "*     6: obj =  -5.728533147e-14 inf =   0.000e+00 (0)\n",
      "OPTIMAL LP SOLUTION FOUND\n",
      "Time used:   0.0 secs\n",
      "Memory used: 0.0 Mb (40436 bytes)\n",
      "Writing basic solution to '/var/folders/8t/3xrvdszj1g75llc2jb40dnvw0000gn/T/5469711ed48c4444847cddf45e9c7968-pulp.sol'...\n",
      "Write sensitivity analysis report to 'sensitivity_for_president.txt'...\n",
      "Model Status:Optimal\n",
      "Cut_in_spending = 150.0 \tReduced Cost = None\n",
      "D1_neg = 0.0 \tReduced Cost = None\n",
      "D1_pos = 0.0 \tReduced Cost = None\n",
      "D2_neg = 0.0 \tReduced Cost = None\n",
      "D2_pos = 0.0 \tReduced Cost = None\n",
      "D3_neg = 50.0 \tReduced Cost = None\n",
      "D3_pos = 0.0 \tReduced Cost = None\n",
      "D4_neg = 0.0 \tReduced Cost = None\n",
      "D4_pos = 0.0 \tReduced Cost = None\n",
      "Gas_tax = 0.0 \tReduced Cost = None\n",
      "T1 = 17.5 \tReduced Cost = None\n",
      "T2 = 27.5 \tReduced Cost = None\n",
      "Objective= 0.0\n"
     ]
    }
   ],
   "source": [
    "model_3_a = pulp.LpProblem(\"New_president\", pulp.LpMinimize)\n",
    "# Variables\n",
    "G = pulp.LpVariable(\"Gas_tax\", lowBound=0, cat=pulp.LpContinuous)\n",
    "C = pulp.LpVariable(\"Cut_in_spending\", lowBound=0, cat=pulp.LpContinuous)\n",
    "T1 = pulp.LpVariable(\"T1\", lowBound=0, cat=pulp.LpContinuous)\n",
    "T2 = pulp.LpVariable(\"T2\", lowBound=0, cat=pulp.LpContinuous)\n",
    "# Deviations\n",
    "D_pos = [pulp.LpVariable(f\"D{i+1}_pos\", lowBound=0, cat=pulp.LpContinuous) for i in range(4)]\n",
    "D_neg = [pulp.LpVariable(f\"D{i+1}_neg\", lowBound=0, cat=pulp.LpContinuous) for i in range(4)]\n",
    "\n",
    "model_3_a += T2 >= T1, \"Rate2_morethan_rate1\"\n",
    "Supposed_revenue = G + 0.5*G + 20*T1 +5*T1 +15*T2\n",
    "# 1 trillion = 1000 billion\n",
    "model_3_a += Supposed_revenue == 1000 - C + D_pos[0] - D_neg[0], \"Balanced_budget\"\n",
    "model_3_a += C == 150 + D_pos[1] - D_neg[1], \"Cut_at_most\"\n",
    "model_3_a += 0.5*G + 5*T1 + 15*T2 == 550 + D_pos[2] - D_neg[2], \"Upbound_of_rase_in_high_income\"\n",
    "model_3_a += G + 20*T1 == 350 + D_pos[3] - D_neg[3], \"Upbound_of_rase_in_low_income\"\n",
    "# Multi-goals\n",
    "model_3_a += D_neg[0] == 0, \"Goal_1\"\n",
    "model_3_a += D_pos[1] == 0, \"Goal_2\"\n",
    "model_3_a += D_pos[2] == 0, \"Goal_3\"\n",
    "model_3_a += D_pos[3], \"Goal_4\"\n",
    "#model_3_a.solve()\n",
    "model_3_a.writeLP(\"President.lp\")\n",
    "model_3_a.solve(pulp.GLPK(msg=True, options=['--ranges', 'sensitivity_for_president.txt']))\n",
    "print(\"Model Status:{}\".format(pulp.LpStatus[model_3_a.status]))\n",
    "for v in model_3_a.variables():\n",
    "\t  print(v.name, \"=\", v.varValue, \"\\tReduced Cost =\", v.dj)\n",
    "print(\"Objective=\", pulp.value(model_3_a.objective))"
   ]
  },
  {
   "cell_type": "code",
   "execution_count": null,
   "metadata": {},
   "outputs": [],
   "source": []
  }
 ],
 "metadata": {
  "kernelspec": {
   "display_name": "Python 3",
   "language": "python",
   "name": "python3"
  },
  "language_info": {
   "codemirror_mode": {
    "name": "ipython",
    "version": 3
   },
   "file_extension": ".py",
   "mimetype": "text/x-python",
   "name": "python",
   "nbconvert_exporter": "python",
   "pygments_lexer": "ipython3",
   "version": "3.9.6"
  }
 },
 "nbformat": 4,
 "nbformat_minor": 2
}
