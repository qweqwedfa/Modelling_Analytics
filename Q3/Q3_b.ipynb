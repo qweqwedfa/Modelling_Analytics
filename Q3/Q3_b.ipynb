{
 "cells": [
  {
   "cell_type": "code",
   "execution_count": 1,
   "metadata": {},
   "outputs": [],
   "source": [
    "import pulp"
   ]
  },
  {
   "cell_type": "code",
   "execution_count": null,
   "metadata": {},
   "outputs": [
    {
     "name": "stdout",
     "output_type": "stream",
     "text": [
      "GLPSOL--GLPK LP/MIP Solver 5.0\n",
      "Parameter(s) specified in the command line:\n",
      " --cpxlp /var/folders/8t/3xrvdszj1g75llc2jb40dnvw0000gn/T/7b52605bc63145c396efe0691551c55b-pulp.lp\n",
      " -o /var/folders/8t/3xrvdszj1g75llc2jb40dnvw0000gn/T/7b52605bc63145c396efe0691551c55b-pulp.sol\n",
      " --ranges sensitivity_for_maximize_revenue.txt\n",
      "Reading problem data from '/var/folders/8t/3xrvdszj1g75llc2jb40dnvw0000gn/T/7b52605bc63145c396efe0691551c55b-pulp.lp'...\n",
      "5 rows, 4 columns, 12 non-zeros\n",
      "10 lines were read\n",
      "GLPK Simplex Optimizer 5.0\n",
      "5 rows, 4 columns, 12 non-zeros\n",
      "Preprocessing...\n",
      "4 rows, 4 columns, 11 non-zeros\n",
      "Scaling...\n",
      " A: min|aij| =  5.000e-01  max|aij| =  2.500e+01  ratio =  5.000e+01\n",
      "GM: min|aij| =  6.687e-01  max|aij| =  1.495e+00  ratio =  2.236e+00\n",
      "EQ: min|aij| =  4.472e-01  max|aij| =  1.000e+00  ratio =  2.236e+00\n",
      "Constructing initial basis...\n",
      "Size of triangular part is 4\n",
      "      0: obj =  -0.000000000e+00 inf =   2.206e+02 (1)\n",
      "      3: obj =   8.500000000e+02 inf =   0.000e+00 (0)\n",
      "*     4: obj =   9.000000000e+02 inf =   0.000e+00 (0)\n",
      "OPTIMAL LP SOLUTION FOUND\n",
      "Time used:   0.0 secs\n",
      "Memory used: 0.0 Mb (40436 bytes)\n",
      "Writing basic solution to '/var/folders/8t/3xrvdszj1g75llc2jb40dnvw0000gn/T/7b52605bc63145c396efe0691551c55b-pulp.sol'...\n",
      "Write sensitivity analysis report to 'sensitivity_for_maximize_revenue.txt'...\n",
      "Model Status:Optimal\n",
      "Cut_in_spending = 150.0 \tReduced Cost = None\n",
      "Gas_tax = 350.0 \tReduced Cost = None\n",
      "T1 = 0.0 \tReduced Cost = None\n",
      "T2 = 25.0 \tReduced Cost = None\n",
      "Objective= 900.0\n"
     ]
    }
   ],
   "source": [
    "model_3_a = pulp.LpProblem(\"New_president\", pulp.LpMaximize)\n",
    "# Variables\n",
    "G = pulp.LpVariable(\"Gas_tax\", lowBound=0, cat=pulp.LpContinuous)\n",
    "C = pulp.LpVariable(\"Cut_in_spending\", lowBound=0, cat=pulp.LpContinuous)\n",
    "T1 = pulp.LpVariable(\"T1\", lowBound=0, cat=pulp.LpContinuous)\n",
    "T2 = pulp.LpVariable(\"T2\", lowBound=0, cat=pulp.LpContinuous)\n",
    "\n",
    "model_3_a += T2 >= T1, \"Rate2_morethan_rate1\"\n",
    "Supposed_revenue = G + 0.5*G + 20*T1 +5*T1 +15*T2\n",
    "# 1 trillion = 1000 billion\n",
    "model_3_a += Supposed_revenue >= 1000 - C, \"Balanced_budget\"\n",
    "model_3_a += C <= 150, \"Cut_at_most\"\n",
    "model_3_a += 0.5*G + 5*T1 + 15*T2 <= 550, \"Upbound_of_rase_in_high_income\"\n",
    "model_3_a += G + 20*T1 <=350, \"Upbound_of_rase_in_low_income\"\n",
    "# Maximize the revenue\n",
    "model_3_a += Supposed_revenue, \"Objective\"\n",
    "\n",
    "model_3_a.writeLP(\"President_b.lp\")\n",
    "model_3_a.solve(pulp.GLPK(msg=True, options=['--ranges', 'sensitivity_for_maximize_revenue.txt']))\n",
    "print(\"Model Status:{}\".format(pulp.LpStatus[model_3_a.status]))\n",
    "for v in model_3_a.variables():\n",
    "\t  print(v.name, \"=\", v.varValue, \"\\tReduced Cost =\", v.dj)\n",
    "print(\"Objective=\", pulp.value(model_3_a.objective))"
   ]
  }
 ],
 "metadata": {
  "kernelspec": {
   "display_name": "Python 3",
   "language": "python",
   "name": "python3"
  },
  "language_info": {
   "codemirror_mode": {
    "name": "ipython",
    "version": 3
   },
   "file_extension": ".py",
   "mimetype": "text/x-python",
   "name": "python",
   "nbconvert_exporter": "python",
   "pygments_lexer": "ipython3",
   "version": "3.9.6"
  }
 },
 "nbformat": 4,
 "nbformat_minor": 2
}
