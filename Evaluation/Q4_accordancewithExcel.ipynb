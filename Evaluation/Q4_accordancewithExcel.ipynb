{
 "cells": [
  {
   "cell_type": "code",
   "execution_count": 4,
   "metadata": {},
   "outputs": [],
   "source": [
    "import pulp"
   ]
  },
  {
   "cell_type": "code",
   "execution_count": 5,
   "metadata": {},
   "outputs": [
    {
     "name": "stdout",
     "output_type": "stream",
     "text": [
      "Welcome to the CBC MILP Solver \n",
      "Version: 2.10.3 \n",
      "Build Date: Dec 15 2019 \n",
      "\n",
      "command line - /Users/yanhanjun/Library/Python/3.9/lib/python/site-packages/pulp/solverdir/cbc/osx/64/cbc /var/folders/8t/3xrvdszj1g75llc2jb40dnvw0000gn/T/fe21a8dc735f4467ad40f93670f6e55f-pulp.mps -timeMode elapsed -branch -printingOptions all -solution /var/folders/8t/3xrvdszj1g75llc2jb40dnvw0000gn/T/fe21a8dc735f4467ad40f93670f6e55f-pulp.sol (default strategy 1)\n",
      "At line 2 NAME          MODEL\n",
      "At line 3 ROWS\n",
      "At line 19 COLUMNS\n",
      "At line 171 RHS\n",
      "At line 186 BOUNDS\n",
      "At line 217 ENDATA\n",
      "Problem MODEL has 14 rows, 30 columns and 61 elements\n",
      "Coin0008I MODEL read with 0 errors\n",
      "Option for timeMode changed from cpu to elapsed\n",
      "Continuous objective value is 1700 - 0.00 seconds\n",
      "Cgl0004I processed model has 12 rows, 28 columns (28 integer (0 of which binary)) and 56 elements\n",
      "Cutoff increment increased from 1e-05 to 0.9999\n",
      "Cbc0012I Integer solution of 1700 found by DiveCoefficient after 0 iterations and 0 nodes (0.02 seconds)\n",
      "Cbc0001I Search completed - best objective 1700, took 0 iterations and 0 nodes (0.02 seconds)\n",
      "Cbc0035I Maximum depth 0, 0 variables fixed on reduced cost\n",
      "Cuts at root node changed objective from 1700 to 1700\n",
      "Probing was tried 0 times and created 0 cuts of which 0 were active after adding rounds of cuts (0.000 seconds)\n",
      "Gomory was tried 0 times and created 0 cuts of which 0 were active after adding rounds of cuts (0.000 seconds)\n",
      "Knapsack was tried 0 times and created 0 cuts of which 0 were active after adding rounds of cuts (0.000 seconds)\n",
      "Clique was tried 0 times and created 0 cuts of which 0 were active after adding rounds of cuts (0.000 seconds)\n",
      "MixedIntegerRounding2 was tried 0 times and created 0 cuts of which 0 were active after adding rounds of cuts (0.000 seconds)\n",
      "FlowCover was tried 0 times and created 0 cuts of which 0 were active after adding rounds of cuts (0.000 seconds)\n",
      "TwoMirCuts was tried 0 times and created 0 cuts of which 0 were active after adding rounds of cuts (0.000 seconds)\n",
      "ZeroHalf was tried 0 times and created 0 cuts of which 0 were active after adding rounds of cuts (0.000 seconds)\n",
      "\n",
      "Result - Optimal solution found\n",
      "\n",
      "Objective value:                1700.00000000\n",
      "Enumerated nodes:               0\n",
      "Total iterations:               0\n",
      "Time (CPU seconds):             0.00\n",
      "Time (Wallclock seconds):       0.02\n",
      "\n",
      "Option for printingOptions changed from normal to all\n",
      "Total time (CPU seconds):       0.00   (Wallclock seconds):       0.03\n",
      "\n",
      "Model Status:Optimal\n",
      "ProductionCenter_to_Warehouse_('A',_1) = 40.0 \tReduced Cost = 4.0\n",
      "ProductionCenter_to_Warehouse_('A',_2) = 30.0 \tReduced Cost = 3.0\n",
      "ProductionCenter_to_Warehouse_('A',_3) = 0.0 \tReduced Cost = 5.0\n",
      "ProductionCenter_to_Warehouse_('B',_1) = 0.0 \tReduced Cost = 6.0\n",
      "ProductionCenter_to_Warehouse_('B',_2) = 90.0 \tReduced Cost = 2.0\n",
      "ProductionCenter_to_Warehouse_('B',_3) = 0.0 \tReduced Cost = 4.0\n",
      "ProductionCenter_to_Warehouse_('C',_1) = 0.0 \tReduced Cost = 5.0\n",
      "ProductionCenter_to_Warehouse_('C',_2) = 0.0 \tReduced Cost = 4.0\n",
      "ProductionCenter_to_Warehouse_('C',_3) = 80.0 \tReduced Cost = 3.0\n",
      "ProductionCenter_to_Warehouse_('D',_1) = 0.0 \tReduced Cost = 7.0\n",
      "ProductionCenter_to_Warehouse_('D',_2) = 0.0 \tReduced Cost = 5.0\n",
      "ProductionCenter_to_Warehouse_('D',_3) = 60.0 \tReduced Cost = 6.0\n",
      "Warehouse_to_DistributionCenter_(1,_1) = 0.0 \tReduced Cost = 3.0\n",
      "Warehouse_to_DistributionCenter_(1,_2) = 40.0 \tReduced Cost = 2.0\n",
      "Warehouse_to_DistributionCenter_(1,_3) = 0.0 \tReduced Cost = 5.0\n",
      "Warehouse_to_DistributionCenter_(1,_4) = 0.0 \tReduced Cost = 4.0\n",
      "Warehouse_to_DistributionCenter_(1,_5) = 0.0 \tReduced Cost = 6.0\n",
      "Warehouse_to_DistributionCenter_(1,_6) = 0.0 \tReduced Cost = 7.0\n",
      "Warehouse_to_DistributionCenter_(2,_1) = 50.0 \tReduced Cost = 1.0\n",
      "Warehouse_to_DistributionCenter_(2,_2) = 0.0 \tReduced Cost = 4.0\n",
      "Warehouse_to_DistributionCenter_(2,_3) = 60.0 \tReduced Cost = 2.0\n",
      "Warehouse_to_DistributionCenter_(2,_4) = 10.0 \tReduced Cost = 3.0\n",
      "Warehouse_to_DistributionCenter_(2,_5) = 0.0 \tReduced Cost = 5.0\n",
      "Warehouse_to_DistributionCenter_(2,_6) = 0.0 \tReduced Cost = 6.0\n",
      "Warehouse_to_DistributionCenter_(3,_1) = 0.0 \tReduced Cost = 5.0\n",
      "Warehouse_to_DistributionCenter_(3,_2) = 0.0 \tReduced Cost = 3.0\n",
      "Warehouse_to_DistributionCenter_(3,_3) = 0.0 \tReduced Cost = 4.0\n",
      "Warehouse_to_DistributionCenter_(3,_4) = 60.0 \tReduced Cost = 2.0\n",
      "Warehouse_to_DistributionCenter_(3,_5) = 50.0 \tReduced Cost = 3.0\n",
      "Warehouse_to_DistributionCenter_(3,_6) = 30.0 \tReduced Cost = 4.0\n",
      "Objective= 1700.0\n"
     ]
    }
   ],
   "source": [
    "model_4_a = pulp.LpProblem(\"Multinamtional_company\", pulp.LpMinimize)\n",
    "Production_center = [\"A\", \"B\", \"C\", \"D\"]\n",
    "Warehouse = [1, 2, 3]\n",
    "Distribution_center = [1, 2, 3, 4, 5, 6]\n",
    "X_1 = pulp.LpVariable.dicts(f\"ProductionCenter_to_Warehouse\", [(i,j) for i in Production_center for j in Warehouse], lowBound=0, cat=pulp.LpInteger)\n",
    "X_2 = pulp.LpVariable.dicts(f\"Warehouse_to_DistributionCenter\", [(i,j) for i in Warehouse for j in Distribution_center], lowBound=0, cat=pulp.LpInteger)\n",
    "Costs_fromProdctionToWarehouse_matrix=[\n",
    "    [4, 3, 5],\n",
    "    [6, 2, 4],\n",
    "    [5, 4, 3],\n",
    "    [7, 5, 6]\n",
    "]\n",
    "fist_half_route = [\n",
    "    [X_1[\"A\", i] for i in Warehouse],\n",
    "    [X_1[\"B\", i] for i in Warehouse],\n",
    "    [X_1[\"C\", i] for i in Warehouse],\n",
    "    [X_1[\"D\", i] for i in Warehouse],\n",
    "]\n",
    "Costs_fromProdctionToWarehouse = pulp.lpDot(Costs_fromProdctionToWarehouse_matrix, fist_half_route)\n",
    "Costs_fromWarehouseToDistributionCenter_matrix=[\n",
    "    [3, 2, 5, 4, 6, 7],\n",
    "    [1, 4, 2, 3, 5, 6],\n",
    "    [5, 3, 4, 2, 3, 4]\n",
    "]\n",
    "second_half_route = [\n",
    "    [X_2[1, i] for i in Distribution_center],\n",
    "    [X_2[2, i] for i in Distribution_center],\n",
    "    [X_2[3, i] for i in Distribution_center],\n",
    "]\n",
    "Costs_fromWarehouseToDistributionCenter = pulp.lpDot(Costs_fromWarehouseToDistributionCenter_matrix, second_half_route)\n",
    "Costs_fromWarehouseToDistributionCenter\n",
    "\n",
    "model_4_a += Costs_fromProdctionToWarehouse + Costs_fromWarehouseToDistributionCenter, \"Objective\"\n",
    "\n",
    "# flow in and out constriants\n",
    "for i in Warehouse:\n",
    "    model_4_a += pulp.lpSum(X_1[in_, i] for in_ in Production_center) == pulp.lpSum(X_2[i, out_] for out_ in Distribution_center), f\"Equal_in_and_out_flow_ofWarehouse{i}\"\n",
    "\n",
    "# supply and demand cap\n",
    "Prodiction_supply = [70, 90, 80, 60]\n",
    "for index_ in range(len(Production_center)):\n",
    "    model_4_a += pulp.lpSum(X_1[Production_center[index_], j] for j in Warehouse) == Prodiction_supply[index_], f\"Supply_from_ProductionCenter{Production_center[index_]}\"\n",
    "\n",
    "Distribution_demand = [50, 40, 60, 70, 50, 30]\n",
    "for index_ in range(len(Distribution_center)):\n",
    "    model_4_a += pulp.lpSum(X_2[j, Distribution_center[index_]] for j in Warehouse) == Distribution_demand[index_], f\"Demand_from_distributionCenter{Distribution_center[index_]}\"\n",
    "\n",
    "# To be accordance with Excel results\n",
    "model_4_a += X_2[2,4] == 10, \"Accordance_with_Excel\"\n",
    "model_4_a.solve()\n",
    "print(\"Model Status:{}\".format(pulp.LpStatus[model_4_a.status]))\n",
    "for v in model_4_a.variables():\n",
    "\t  print(v.name, \"=\", v.varValue, \"\\tReduced Cost =\", v.dj)\n",
    "print(\"Objective=\", pulp.value(model_4_a.objective))"
   ]
  },
  {
   "cell_type": "code",
   "execution_count": 6,
   "metadata": {},
   "outputs": [
    {
     "data": {
      "text/plain": [
       "Warehouse_to_DistributionCenter_(2,_4)"
      ]
     },
     "execution_count": 6,
     "metadata": {},
     "output_type": "execute_result"
    }
   ],
   "source": [
    "X_2[2,4]"
   ]
  }
 ],
 "metadata": {
  "kernelspec": {
   "display_name": "Python 3",
   "language": "python",
   "name": "python3"
  },
  "language_info": {
   "codemirror_mode": {
    "name": "ipython",
    "version": 3
   },
   "file_extension": ".py",
   "mimetype": "text/x-python",
   "name": "python",
   "nbconvert_exporter": "python",
   "pygments_lexer": "ipython3",
   "version": "3.9.6"
  }
 },
 "nbformat": 4,
 "nbformat_minor": 2
}
